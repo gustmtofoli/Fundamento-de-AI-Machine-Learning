{
 "cells": [
  {
   "cell_type": "code",
   "execution_count": 5,
   "metadata": {},
   "outputs": [],
   "source": [
    "import pandas as pd\n",
    "import numpy as np\n",
    "\n",
    "data = pd.read_csv('housing.csv')\n",
    "\n"
   ]
  },
  {
   "cell_type": "code",
   "execution_count": null,
   "metadata": {},
   "outputs": [],
   "source": []
  },
  {
   "cell_type": "code",
   "execution_count": 6,
   "metadata": {},
   "outputs": [],
   "source": [
    "rm = data['RM']\n",
    "lstat = data['LSTAT']\n",
    "ptratio = data['PTRATIO']\n",
    "medv = data['MEDV']"
   ]
  },
  {
   "cell_type": "code",
   "execution_count": 8,
   "metadata": {},
   "outputs": [
    {
     "name": "stdout",
     "output_type": "stream",
     "text": [
      "[[1.         0.69720922]\n",
      " [0.69720922 1.        ]]\n",
      "\n",
      " [[ 1.         -0.76067006]\n",
      " [-0.76067006  1.        ]]\n",
      "\n",
      " [[ 1.        -0.5190335]\n",
      " [-0.5190335  1.       ]]\n"
     ]
    }
   ],
   "source": [
    "corr_rm = np.corrcoef(rm, medv)\n",
    "print(corr_rm)\n",
    "\n",
    "corr_lstat = np.corrcoef(lstat, medv)\n",
    "print('\\n', corr_lstat)\n",
    "\n",
    "corr_ptratio = np.corrcoef(ptratio, medv)\n",
    "print('\\n', corr_ptratio)"
   ]
  },
  {
   "cell_type": "code",
   "execution_count": 12,
   "metadata": {},
   "outputs": [
    {
     "name": "stdout",
     "output_type": "stream",
     "text": [
      "0      504000.0\n",
      "1      453600.0\n",
      "2      728700.0\n",
      "3      701400.0\n",
      "4      760200.0\n",
      "5      602700.0\n",
      "6      480900.0\n",
      "7      569100.0\n",
      "8      346500.0\n",
      "9      396900.0\n",
      "10     315000.0\n",
      "11     396900.0\n",
      "12     455700.0\n",
      "13     428400.0\n",
      "14     382200.0\n",
      "15     417900.0\n",
      "16     485100.0\n",
      "17     367500.0\n",
      "18     424200.0\n",
      "19     382200.0\n",
      "20     285600.0\n",
      "21     411600.0\n",
      "22     319200.0\n",
      "23     304500.0\n",
      "24     327600.0\n",
      "25     291900.0\n",
      "26     348600.0\n",
      "27     310800.0\n",
      "28     386400.0\n",
      "29     441000.0\n",
      "         ...   \n",
      "459    350700.0\n",
      "460    252000.0\n",
      "461    306600.0\n",
      "462    449400.0\n",
      "463    483000.0\n",
      "464    497700.0\n",
      "465    525000.0\n",
      "466    457800.0\n",
      "467    432600.0\n",
      "468    445200.0\n",
      "469    401100.0\n",
      "470    432600.0\n",
      "471    319200.0\n",
      "472    147000.0\n",
      "473    170100.0\n",
      "474    285600.0\n",
      "475    422100.0\n",
      "476    457800.0\n",
      "477    514500.0\n",
      "478    485100.0\n",
      "479    413700.0\n",
      "480    384300.0\n",
      "481    445200.0\n",
      "482    367500.0\n",
      "483    352800.0\n",
      "484    470400.0\n",
      "485    432600.0\n",
      "486    501900.0\n",
      "487    462000.0\n",
      "488    249900.0\n",
      "Name: MEDV, Length: 489, dtype: float64\n"
     ]
    }
   ],
   "source": [
    "prices = data['MEDV']\n",
    "features = data.drop('MEDV', axis = 1)\n",
    "print(prices)"
   ]
  }
 ],
 "metadata": {
  "kernelspec": {
   "display_name": "Python 3",
   "language": "python",
   "name": "python3"
  },
  "language_info": {
   "codemirror_mode": {
    "name": "ipython",
    "version": 3
   },
   "file_extension": ".py",
   "mimetype": "text/x-python",
   "name": "python",
   "nbconvert_exporter": "python",
   "pygments_lexer": "ipython3",
   "version": "3.7.0"
  }
 },
 "nbformat": 4,
 "nbformat_minor": 2
}
